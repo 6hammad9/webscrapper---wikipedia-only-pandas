{
  "cells": [
    {
      "cell_type": "code",
      "execution_count": 51,
      "id": "6f77ea58",
      "metadata": {
        "id": "6f77ea58"
      },
      "outputs": [],
      "source": [
        "#imports\n",
        "import pandas as pd\n",
        "import re"
      ]
    },
    {
      "cell_type": "code",
      "execution_count": null,
      "id": "df8006ed",
      "metadata": {
        "id": "df8006ed"
      },
      "outputs": [],
      "source": [
        "\n",
        "url = 'https://en.wikipedia.org/wiki/List_of_modern_equipment_of_the_Bulgarian_land_forces'\n",
        "tables = pd.read_html(url, attrs={'class': 'wikitable'})\n",
        "\n",
        "\n",
        "type( tables)\n",
        "print(tables)\n",
        "Table_class='wikitable'"
      ]
    },
    {
      "cell_type": "code",
      "execution_count": 53,
      "id": "50ce5bf8",
      "metadata": {
        "id": "50ce5bf8"
      },
      "outputs": [],
      "source": [
        "def weapons(url, name, indices):\n",
        "    tables = pd.read_html(url, attrs={'class': name})\n",
        "    df = pd.concat([tables[i] for i in indices])\n",
        "    df.columns = df.columns.get_level_values(0)\n",
        "    df.fillna(\"\", inplace=True)\n",
        "   \n",
        "    return df\n",
        "\n",
        "\n",
        "\n",
        "\n",
        "def extract_text(text):\n",
        "    match = re.search('<span.*>(.*?)</span>', text)\n",
        "    result = match.group(1)\n",
        "    return result\n",
        "\n"
      ]
    },
    {
      "cell_type": "code",
      "execution_count": 54,
      "id": "snHHeV2moKd_",
      "metadata": {
        "id": "snHHeV2moKd_"
      },
      "outputs": [],
      "source": [
        "#put desired COlUMN NAMES\n",
        "\n",
        "desired_columns = [\"Name\", 'Origin', 'Type', 'Notes','Category']"
      ]
    },
    {
      "cell_type": "code",
      "execution_count": null,
      "id": "36ab80dd",
      "metadata": {
        "id": "36ab80dd"
      },
      "outputs": [],
      "source": [
        "#In Indices put the number of tables you want starting from 0\n",
        "#i ONLY WANT WEAPONS TABLE THAT'S WHY I AM ADDING 0-9 THERE ARE TOTAL 11 TABLES\n",
        "\n",
        "indices = [0,1,2,3,4,5,6,7,8,9]\n",
        "da = weapons(url, Table_class, indices)\n",
        "da.head()"
      ]
    },
    {
      "cell_type": "code",
      "execution_count": 56,
      "id": "G8L9iGREYDPe",
      "metadata": {
        "id": "G8L9iGREYDPe"
      },
      "outputs": [],
      "source": [
        "#Put the html of heading in the text to add the column of catagory\n",
        "\n",
        "\n",
        "text = '<span class=\"mw-headline\" id=\"Small_arms\">Small arms</span>' #input(\"Enter the line of code: \") \n",
        "result = extract_text(text)\n",
        "da[\"Category\"] = result"
      ]
    },
    {
      "cell_type": "code",
      "execution_count": null,
      "id": "340a4ea4",
      "metadata": {
        "id": "340a4ea4"
      },
      "outputs": [],
      "source": [
        "#RENAMING THE COLUMN SO IT IS EASIER TO MERGE ALL THE COLUMNS\n",
        "\n",
        "\n",
        "da = da.rename(columns={'Model':'Name'})\n",
        "da.head()"
      ]
    },
    {
      "cell_type": "code",
      "execution_count": null,
      "id": "V_61QuiphB5k",
      "metadata": {
        "id": "V_61QuiphB5k"
      },
      "outputs": [],
      "source": [
        "#FILTERING THE COLUMNS TO TAKE ONLY DESIRED COLUMNS\n",
        "da = da.loc[:, desired_columns]\n",
        "da.head()"
      ]
    },
    {
      "cell_type": "code",
      "execution_count": null,
      "id": "b6112560",
      "metadata": {
        "id": "b6112560"
      },
      "outputs": [],
      "source": [
        "# indices = [10]\n",
        "# dh = get_bulgarian_weapons(url, Table_class, indices)\n",
        "# dh.head()"
      ]
    },
    {
      "cell_type": "code",
      "execution_count": 30,
      "id": "d8944626",
      "metadata": {
        "id": "d8944626"
      },
      "outputs": [],
      "source": [
        "# rows_to_drop = [0, 1]\n",
        "# dh.drop(rows_to_drop, axis=0, inplace=True)"
      ]
    },
    {
      "cell_type": "code",
      "execution_count": null,
      "id": "ed02b961",
      "metadata": {
        "id": "ed02b961"
      },
      "outputs": [],
      "source": [
        "# dh = dh.rename(columns={0:'Name',1: 'Origin' ,2: 'Type',5: 'Notes'})\n",
        "\n",
        "\n",
        "# dh.head(60)"
      ]
    },
    {
      "cell_type": "code",
      "execution_count": 34,
      "id": "WwvIcSd6iLMf",
      "metadata": {
        "id": "WwvIcSd6iLMf"
      },
      "outputs": [],
      "source": [
        "# text2 = '<span> \"mw-headline\" id=\"Armoured_and_utility_vehicles\">Armoured and utility vehicles</span>'#input(\"Enter the line of code: \")\n",
        "# result = extract_text(text2)\n",
        "# dh[\"Category\"] = result"
      ]
    },
    {
      "cell_type": "code",
      "execution_count": null,
      "id": "9IsEA3pJivjk",
      "metadata": {
        "id": "9IsEA3pJivjk"
      },
      "outputs": [],
      "source": [
        "\n",
        "# dh = dh.loc[:, desired_columns]\n",
        "# dh.head()"
      ]
    },
    {
      "cell_type": "code",
      "execution_count": 36,
      "id": "f399a64f",
      "metadata": {
        "id": "f399a64f"
      },
      "outputs": [],
      "source": [
        "# indices = [11]\n",
        "# dz = get_bulgarian_weapons(url, Table_class, indices)"
      ]
    },
    {
      "cell_type": "code",
      "execution_count": 37,
      "id": "o4dCDJMAj0C2",
      "metadata": {
        "id": "o4dCDJMAj0C2"
      },
      "outputs": [],
      "source": [
        "# text3 = '<span class=\"mw-headline\" id=\"Artillery_and_air_defense\">Artillery and air defense</span>'#input(\"Enter the line of code: \")\n",
        "# result = extract_text(text2)\n",
        "# dz[\"Category\"] = result"
      ]
    },
    {
      "cell_type": "code",
      "execution_count": null,
      "id": "4a907e45",
      "metadata": {
        "id": "4a907e45"
      },
      "outputs": [],
      "source": [
        "# dz = dz.loc[:, desired_columns]\n",
        "# dz.head()"
      ]
    },
    {
      "cell_type": "code",
      "execution_count": null,
      "id": "f58232b1",
      "metadata": {
        "id": "f58232b1"
      },
      "outputs": [],
      "source": [
        "# merging the tables\n",
        "df_final = pd.concat([da, dh, dz])\n",
        "\n",
        "df_final.head(150)"
      ]
    },
    {
      "cell_type": "code",
      "execution_count": null,
      "id": "1b937d5d",
      "metadata": {
        "id": "1b937d5d"
      },
      "outputs": [],
      "source": [
        "df_final = df_final.drop(5, axis=1)\n",
        "df_final.head(150)"
      ]
    },
    {
      "cell_type": "code",
      "execution_count": null,
      "id": "e6e1bf0f",
      "metadata": {
        "id": "e6e1bf0f"
      },
      "outputs": [],
      "source": []
    }
  ],
  "metadata": {
    "colab": {
      "provenance": []
    },
    "kernelspec": {
      "display_name": "Python 3 (ipykernel)",
      "language": "python",
      "name": "python3"
    },
    "language_info": {
      "codemirror_mode": {
        "name": "ipython",
        "version": 3
      },
      "file_extension": ".py",
      "mimetype": "text/x-python",
      "name": "python",
      "nbconvert_exporter": "python",
      "pygments_lexer": "ipython3",
      "version": "3.9.13"
    }
  },
  "nbformat": 4,
  "nbformat_minor": 5
}
